{
  "nbformat": 4,
  "nbformat_minor": 0,
  "metadata": {
    "colab": {
      "provenance": []
    },
    "kernelspec": {
      "name": "python3",
      "display_name": "Python 3"
    }
  },
  "cells": [
    {
      "cell_type": "markdown",
      "metadata": {
        "id": "FcBj8oqlBm1W"
      },
      "source": [
        "<a href=\"https://www.inove.com.ar\"><img src=\"https://raw.githubusercontent.com/InoveAlumnos/dataset_analytics_python/master/images/PA%20Banner.png\" width=\"1000\" align=\"center\"></a>\n",
        "\n",
        "\n",
        "# Proyectos\n",
        "\n",
        "Proyectos propuestos para Python Analytics<br>\n",
        "v1.5"
      ]
    },
    {
      "cell_type": "markdown",
      "metadata": {
        "id": "mfnI5-sJDqwl"
      },
      "source": [
        "### Formato de entrega\n",
        "Toda la etapa de entrenamiento del proyecto se debe realizar en un colab o nootebook que luego el alumno subierá a su repositorio de proyecto para que el profesor pueda evaluar los avances.<br>\n",
        "\n",
        "__APROBACIÓN:__ El proyecto será aprobado cuando el modelo entrenado alcance la exactitud/condición planteada en el proyecto.<br>"
      ]
    },
    {
      "cell_type": "markdown",
      "metadata": {
        "id": "iEFaq33u37Th"
      },
      "source": [
        "### Clasificación de imagenes de comida\n",
        "<img src=\"https://github.com/InoveAlumnos/proyecto_analytics_python/raw/main/food.png\" width=\"600\" align=\"center\">"
      ]
    },
    {
      "cell_type": "markdown",
      "metadata": {
        "id": "em1juto04Dhl"
      },
      "source": [
        "- El objetivo es entrenar una red neuronal CNN para clasificar imagenes a color de comida.\n",
        "- Se debe crear un modelo de CNN propio, no demasiado complejo o grande para no demorar más de 15 minutos el entrenamiento (tope máximo sugerido). Recomendamos utilizar colab con GPU para reducir los tiempos al mínimo.\n",
        "- El modelo CNN armado propio debe tener una precisión entre 0.25 y 0.4 de accuracy.\n",
        "- Deberá utilizan transfer learning con las redes VGG16 o ResNet50 para alcanzar el verdadero valor objetivo de accuracy.\n",
        "- Por último, utilizar la red con al menos 5 imagenes de algunas comidas a elección (dentro de las posibles del dataset) para introducir en su red y ver como se comporta."
      ]
    },
    {
      "cell_type": "markdown",
      "metadata": {
        "id": "8ZkKBlP64S0X"
      },
      "source": [
        "#### Objetivo"
      ]
    },
    {
      "cell_type": "markdown",
      "metadata": {
        "id": "AQ0wsJWy4U_P"
      },
      "source": [
        "El accuracy del modelo entrenado con transfer learning debe superar el 60%"
      ]
    },
    {
      "cell_type": "markdown",
      "metadata": {
        "id": "GfEhuBQv4X3X"
      },
      "source": [
        "#### Como descargar el dataset"
      ]
    },
    {
      "cell_type": "code",
      "metadata": {
        "id": "OjXl2W5p4g2h"
      },
      "source": [
        "# Descargar el dataset\n",
        "import gdown\n",
        "if os.access('10_food_classes_all_data', os.F_OK) is False:\n",
        "    if os.access('10_food_classes_all_data.zip', os.F_OK) is False:\n",
        "        url = 'https://drive.google.com/uc?id=1ltCRzJhGcmJITYq7o8XyrSAezXPYPzBX'\n",
        "        output = '10_food_classes_all_data.zip'\n",
        "        gdown.download(url, output, quiet=False)\n",
        "    !unzip -q 10_food_classes_all_data.zip\n",
        "else:\n",
        "    print(\"El archivo ya se encuentra descargado\")"
      ],
      "execution_count": null,
      "outputs": []
    },
    {
      "cell_type": "code",
      "metadata": {
        "id": "jJm-AVJI4kxu"
      },
      "source": [
        " train_dir = \"./10_food_classes_all_data/train\"\n",
        " validation_dir = \"./10_food_classes_all_data/test\""
      ],
      "execution_count": null,
      "outputs": []
    }
  ]
}